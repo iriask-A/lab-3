{
 "cells": [
  {
   "cell_type": "markdown",
   "metadata": {},
   "source": [
    "Functions 1"
   ]
  },
  {
   "cell_type": "code",
   "execution_count": 3,
   "metadata": {},
   "outputs": [
    {
     "name": "stdout",
     "output_type": "stream",
     "text": [
      "1.0582188594206017\n"
     ]
    }
   ],
   "source": [
    "#1\n",
    "def ounces(n):\n",
    "    return n/28.3495231\n",
    "gram=30\n",
    "print(ounces(gram))"
   ]
  },
  {
   "cell_type": "code",
   "execution_count": 4,
   "metadata": {},
   "outputs": [
    {
     "name": "stdout",
     "output_type": "stream",
     "text": [
      "-2.7777777777777777\n"
     ]
    }
   ],
   "source": [
    "#2\n",
    "def temperature(F):\n",
    "    return (5 / 9) * (F - 32)\n",
    "F=27\n",
    "print(temperature(F))"
   ]
  },
  {
   "cell_type": "code",
   "execution_count": 4,
   "metadata": {},
   "outputs": [
    {
     "name": "stdout",
     "output_type": "stream",
     "text": [
      "The number of rabbits - 12\n",
      "The number of chickens - 23\n"
     ]
    }
   ],
   "source": [
    "#3\n",
    "def solve(numheads,numlegs):\n",
    "    print(f\"The number of rabbits - {int(numlegs/2-numheads)}\")\n",
    "    print(f\"The number of chickens - {int(numheads-(numlegs/2-numheads))}\")\n",
    "a=35\n",
    "b=94\n",
    "solve(a,b)"
   ]
  },
  {
   "cell_type": "code",
   "execution_count": 10,
   "metadata": {},
   "outputs": [
    {
     "name": "stdout",
     "output_type": "stream",
     "text": [
      "2\n",
      "3\n",
      "5\n",
      "7\n",
      "17\n"
     ]
    }
   ],
   "source": [
    "#4\n",
    "def filter_prime(n):\n",
    "    for i in n:\n",
    "        l=True\n",
    "        for j in range(2,i):\n",
    "            if i%j==0:\n",
    "                l=False\n",
    "                break\n",
    "        if i==1:\n",
    "            continue\n",
    "        elif l:\n",
    "            print(i)\n",
    "n=[1,2,3,4,5,6,7,8,9,17]\n",
    "filter_prime(n)"
   ]
  },
  {
   "cell_type": "code",
   "execution_count": 42,
   "metadata": {},
   "outputs": [
    {
     "name": "stdout",
     "output_type": "stream",
     "text": [
      "abc\n",
      "acb\n",
      "bac\n",
      "bca\n",
      "cab\n",
      "cba\n"
     ]
    }
   ],
   "source": [
    "#5\n",
    "def permutations(word):\n",
    "    if len(word) == 1:\n",
    "        return [word]\n",
    "    \n",
    "    result = []\n",
    "    for i in range(len(word)):\n",
    "        for j in permutations(word[:i] + word[i+1:]):\n",
    "            result.append(word[i] + j)\n",
    "    \n",
    "    return result\n",
    "x=permutations(\"abc\")\n",
    "for i in x:\n",
    "    print(i)\n",
    "\n",
    "\n"
   ]
  },
  {
   "cell_type": "code",
   "execution_count": 34,
   "metadata": {},
   "outputs": [
    {
     "name": "stdout",
     "output_type": "stream",
     "text": [
      "ready\n",
      "you\n",
      "Are\n"
     ]
    }
   ],
   "source": [
    "#6\n",
    "def Reversed(sentence):\n",
    "    n=len(sentence)\n",
    "    for i in range(n):\n",
    "        print(sentence[n-i-1])\n",
    "        \n",
    "sentence=\"Are you ready\"\n",
    "x=sentence.split( )\n",
    "Reversed(x)"
   ]
  },
  {
   "cell_type": "code",
   "execution_count": 51,
   "metadata": {},
   "outputs": [
    {
     "name": "stdout",
     "output_type": "stream",
     "text": [
      "True\n",
      "False\n",
      "False\n"
     ]
    }
   ],
   "source": [
    "#7\n",
    "import math\n",
    "def has_33(nums):\n",
    "    n=False\n",
    "    for i in range (1,len(nums)):\n",
    "        if i+1==len(nums):\n",
    "            break\n",
    "        elif nums[i]==3 and nums[i+1]==3:\n",
    "            n=True\n",
    "    if n:\n",
    "        print(\"True\")\n",
    "    else:\n",
    "        print(\"False\")\n",
    "            \n",
    "\n",
    "has_33([1, 3, 3])\n",
    "has_33([1, 3, 1, 3])\n",
    "has_33([3, 1, 3])"
   ]
  },
  {
   "cell_type": "code",
   "execution_count": 29,
   "metadata": {},
   "outputs": [
    {
     "name": "stdout",
     "output_type": "stream",
     "text": [
      "True\n",
      "True\n",
      "False\n"
     ]
    }
   ],
   "source": [
    "#8\n",
    "def spy_game(nums):\n",
    "    n=[0,0,7]\n",
    "    m=0\n",
    "    for i in nums:\n",
    "        if i==n[m]:\n",
    "            m+=1\n",
    "        if m==3:\n",
    "            return True\n",
    "    return False\n",
    "\n",
    "print(spy_game([1,2,4,0,0,7,5]))\n",
    "print(spy_game([1,0,2,4,0,5,7]))\n",
    "print(spy_game([1,7,2,0,4,5,0]))"
   ]
  },
  {
   "cell_type": "code",
   "execution_count": 52,
   "metadata": {},
   "outputs": [
    {
     "name": "stdout",
     "output_type": "stream",
     "text": [
      "523.5987755982987\n"
     ]
    }
   ],
   "source": [
    "#9\n",
    "import math\n",
    "def volume(radius):\n",
    "    return pow(radius,3)* math.pi *(4/3) \n",
    "print(volume(5))"
   ]
  },
  {
   "cell_type": "code",
   "execution_count": 25,
   "metadata": {},
   "outputs": [
    {
     "name": "stdout",
     "output_type": "stream",
     "text": [
      "[1, 2, 3, 4, 5]\n"
     ]
    }
   ],
   "source": [
    "#10\n",
    "def unique(nums):\n",
    "    numbers_set=[]\n",
    "    for i in nums:\n",
    "        if i not in numbers_set:\n",
    "            numbers_set.append(i)\n",
    "    return numbers_set\n",
    "Set=unique([1,2,3,1,2,4,2,5,4])\n",
    "print(Set)\n"
   ]
  },
  {
   "cell_type": "code",
   "execution_count": 74,
   "metadata": {},
   "outputs": [
    {
     "name": "stdout",
     "output_type": "stream",
     "text": [
      "True\n",
      "False\n",
      "True\n"
     ]
    }
   ],
   "source": [
    "#11\n",
    "def palindrome(word):\n",
    "    check= True\n",
    "    for i in range(len(word)):\n",
    "        if word[i]!=word[len(word)-1-i]:\n",
    "            check=False\n",
    "            break\n",
    "    if(check):\n",
    "        print( \"True\")\n",
    "    else:\n",
    "        print (\"False\")\n",
    "palindrome(\"madam\")\n",
    "palindrome(\"1234\")\n",
    "palindrome(\"12321\")"
   ]
  },
  {
   "cell_type": "code",
   "execution_count": 81,
   "metadata": {},
   "outputs": [
    {
     "name": "stdout",
     "output_type": "stream",
     "text": [
      "*****\n",
      "*******\n",
      "***\n"
     ]
    }
   ],
   "source": [
    "#12\n",
    "def histogram(nums):\n",
    "    for i in nums:\n",
    "        for j in range (i):\n",
    "            print(\"*\",end=\"\")\n",
    "        print()\n",
    "histogram([5,7,3])   "
   ]
  },
  {
   "cell_type": "code",
   "execution_count": 2,
   "metadata": {},
   "outputs": [],
   "source": [
    "#13\n",
    "import random\n",
    "def guess(num):\n",
    "    count=1\n",
    "    secret_number=random.randint(1,20)\n",
    "    while num!=secret_number:\n",
    "        if num>secret_number:\n",
    "            print(\"Your guess is too high.\\nTake a guess.\")\n",
    "        else:\n",
    "            print(\"Your guess is too low.\\nTake a guess.\")\n",
    "        num=int(input())\n",
    "        count+=1\n",
    "    else:\n",
    "        print(f\"Good job, {n}! You guessed my number in {count} guesses!\")\n",
    "\n",
    "n=input(\"Hello! What is your name?\")\n",
    "print(f\"Well, {n}, I am thinking of a number between 1 and 20.\\nTake a guess.\")\n",
    "num=int(input())\n",
    "guess(num)"
   ]
  },
  {
   "cell_type": "markdown",
   "metadata": {},
   "source": [
    "Functions 2"
   ]
  },
  {
   "cell_type": "code",
   "execution_count": 12,
   "metadata": {},
   "outputs": [
    {
     "name": "stdout",
     "output_type": "stream",
     "text": [
      "False\n"
     ]
    }
   ],
   "source": [
    "# Dictionary of movies\n",
    "#1\n",
    "movies = [\n",
    "{\n",
    "\"name\": \"Usual Suspects\", \n",
    "\"imdb\": 7.0,\n",
    "\"category\": \"Thriller\"\n",
    "},\n",
    "{\n",
    "\"name\": \"Hitman\",\n",
    "\"imdb\": 6.3,\n",
    "\"category\": \"Action\"\n",
    "},\n",
    "{\n",
    "\"name\": \"Dark Knight\",\n",
    "\"imdb\": 9.0,\n",
    "\"category\": \"Adventure\"\n",
    "},\n",
    "{\n",
    "\"name\": \"The Help\",\n",
    "\"imdb\": 8.0,\n",
    "\"category\": \"Drama\"\n",
    "},\n",
    "{\n",
    "\"name\": \"The Choice\",\n",
    "\"imdb\": 6.2,\n",
    "\"category\": \"Romance\"\n",
    "},\n",
    "{\n",
    "\"name\": \"Colonia\",\n",
    "\"imdb\": 7.4,\n",
    "\"category\": \"Romance\"\n",
    "},\n",
    "{\n",
    "\"name\": \"Love\",\n",
    "\"imdb\": 6.0,\n",
    "\"category\": \"Romance\"\n",
    "},\n",
    "{\n",
    "\"name\": \"Bride Wars\",\n",
    "\"imdb\": 5.4,\n",
    "\"category\": \"Romance\"\n",
    "},\n",
    "{\n",
    "\"name\": \"AlphaJet\",\n",
    "\"imdb\": 3.2,\n",
    "\"category\": \"War\"\n",
    "},\n",
    "{\n",
    "\"name\": \"Ringing Crime\",\n",
    "\"imdb\": 4.0,\n",
    "\"category\": \"Crime\"\n",
    "},\n",
    "{\n",
    "\"name\": \"Joking muck\",\n",
    "\"imdb\": 7.2,\n",
    "\"category\": \"Comedy\"\n",
    "},\n",
    "{\n",
    "\"name\": \"What is the name\",\n",
    "\"imdb\": 9.2,\n",
    "\"category\": \"Suspense\"\n",
    "},\n",
    "{\n",
    "\"name\": \"Detective\",\n",
    "\"imdb\": 7.0,\n",
    "\"category\": \"Suspense\"\n",
    "},\n",
    "{\n",
    "\"name\": \"Exam\",\n",
    "\"imdb\": 4.2,\n",
    "\"category\": \"Thriller\"\n",
    "},\n",
    "{\n",
    "\"name\": \"We Two\",\n",
    "\"imdb\": 7.2,\n",
    "\"category\": \"Romance\"\n",
    "}\n",
    "]\n",
    "def above_5_5(movies,name):\n",
    "    for i in movies:\n",
    "        if name==i[\"name\"]:\n",
    "            return i[\"imdb\"]>5.5\n",
    "    return False\n",
    "\n",
    "name=\"We Two\"\n",
    "print(above_5_5(movies,\"Exam\"))\n"
   ]
  },
  {
   "cell_type": "code",
   "execution_count": 13,
   "metadata": {},
   "outputs": [
    {
     "name": "stdout",
     "output_type": "stream",
     "text": [
      "{'name': 'Usual Suspects', 'imdb': 7.0, 'category': 'Thriller'}\n",
      "{'name': 'Hitman', 'imdb': 6.3, 'category': 'Action'}\n",
      "{'name': 'Dark Knight', 'imdb': 9.0, 'category': 'Adventure'}\n",
      "{'name': 'The Help', 'imdb': 8.0, 'category': 'Drama'}\n",
      "{'name': 'The Choice', 'imdb': 6.2, 'category': 'Romance'}\n",
      "{'name': 'Colonia', 'imdb': 7.4, 'category': 'Romance'}\n",
      "{'name': 'Love', 'imdb': 6.0, 'category': 'Romance'}\n",
      "{'name': 'Joking muck', 'imdb': 7.2, 'category': 'Comedy'}\n",
      "{'name': 'What is the name', 'imdb': 9.2, 'category': 'Suspense'}\n",
      "{'name': 'Detective', 'imdb': 7.0, 'category': 'Suspense'}\n",
      "{'name': 'We Two', 'imdb': 7.2, 'category': 'Romance'}\n"
     ]
    }
   ],
   "source": [
    "#2\n",
    "# Dictionary of movies\n",
    "\n",
    "movies = [\n",
    "{\n",
    "\"name\": \"Usual Suspects\", \n",
    "\"imdb\": 7.0,\n",
    "\"category\": \"Thriller\"\n",
    "},\n",
    "{\n",
    "\"name\": \"Hitman\",\n",
    "\"imdb\": 6.3,\n",
    "\"category\": \"Action\"\n",
    "},\n",
    "{\n",
    "\"name\": \"Dark Knight\",\n",
    "\"imdb\": 9.0,\n",
    "\"category\": \"Adventure\"\n",
    "},\n",
    "{\n",
    "\"name\": \"The Help\",\n",
    "\"imdb\": 8.0,\n",
    "\"category\": \"Drama\"\n",
    "},\n",
    "{\n",
    "\"name\": \"The Choice\",\n",
    "\"imdb\": 6.2,\n",
    "\"category\": \"Romance\"\n",
    "},\n",
    "{\n",
    "\"name\": \"Colonia\",\n",
    "\"imdb\": 7.4,\n",
    "\"category\": \"Romance\"\n",
    "},\n",
    "{\n",
    "\"name\": \"Love\",\n",
    "\"imdb\": 6.0,\n",
    "\"category\": \"Romance\"\n",
    "},\n",
    "{\n",
    "\"name\": \"Bride Wars\",\n",
    "\"imdb\": 5.4,\n",
    "\"category\": \"Romance\"\n",
    "},\n",
    "{\n",
    "\"name\": \"AlphaJet\",\n",
    "\"imdb\": 3.2,\n",
    "\"category\": \"War\"\n",
    "},\n",
    "{\n",
    "\"name\": \"Ringing Crime\",\n",
    "\"imdb\": 4.0,\n",
    "\"category\": \"Crime\"\n",
    "},\n",
    "{\n",
    "\"name\": \"Joking muck\",\n",
    "\"imdb\": 7.2,\n",
    "\"category\": \"Comedy\"\n",
    "},\n",
    "{\n",
    "\"name\": \"What is the name\",\n",
    "\"imdb\": 9.2,\n",
    "\"category\": \"Suspense\"\n",
    "},\n",
    "{\n",
    "\"name\": \"Detective\",\n",
    "\"imdb\": 7.0,\n",
    "\"category\": \"Suspense\"\n",
    "},\n",
    "{\n",
    "\"name\": \"Exam\",\n",
    "\"imdb\": 4.2,\n",
    "\"category\": \"Thriller\"\n",
    "},\n",
    "{\n",
    "\"name\": \"We Two\",\n",
    "\"imdb\": 7.2,\n",
    "\"category\": \"Romance\"\n",
    "}\n",
    "]\n",
    "def above_5_5(movies):\n",
    "    for i in movies:\n",
    "        if i[\"imdb\"]>5.5:\n",
    "            print(i)\n",
    "\n",
    "above_5_5(movies)\n"
   ]
  },
  {
   "cell_type": "code",
   "execution_count": 16,
   "metadata": {},
   "outputs": [
    {
     "name": "stdout",
     "output_type": "stream",
     "text": [
      "Usual Suspects\n",
      "Exam\n"
     ]
    }
   ],
   "source": [
    "#3\n",
    "# Dictionary of movies\n",
    "\n",
    "movies = [\n",
    "{\n",
    "\"name\": \"Usual Suspects\", \n",
    "\"imdb\": 7.0,\n",
    "\"category\": \"Thriller\"\n",
    "},\n",
    "{\n",
    "\"name\": \"Hitman\",\n",
    "\"imdb\": 6.3,\n",
    "\"category\": \"Action\"\n",
    "},\n",
    "{\n",
    "\"name\": \"Dark Knight\",\n",
    "\"imdb\": 9.0,\n",
    "\"category\": \"Adventure\"\n",
    "},\n",
    "{\n",
    "\"name\": \"The Help\",\n",
    "\"imdb\": 8.0,\n",
    "\"category\": \"Drama\"\n",
    "},\n",
    "{\n",
    "\"name\": \"The Choice\",\n",
    "\"imdb\": 6.2,\n",
    "\"category\": \"Romance\"\n",
    "},\n",
    "{\n",
    "\"name\": \"Colonia\",\n",
    "\"imdb\": 7.4,\n",
    "\"category\": \"Romance\"\n",
    "},\n",
    "{\n",
    "\"name\": \"Love\",\n",
    "\"imdb\": 6.0,\n",
    "\"category\": \"Romance\"\n",
    "},\n",
    "{\n",
    "\"name\": \"Bride Wars\",\n",
    "\"imdb\": 5.4,\n",
    "\"category\": \"Romance\"\n",
    "},\n",
    "{\n",
    "\"name\": \"AlphaJet\",\n",
    "\"imdb\": 3.2,\n",
    "\"category\": \"War\"\n",
    "},\n",
    "{\n",
    "\"name\": \"Ringing Crime\",\n",
    "\"imdb\": 4.0,\n",
    "\"category\": \"Crime\"\n",
    "},\n",
    "{\n",
    "\"name\": \"Joking muck\",\n",
    "\"imdb\": 7.2,\n",
    "\"category\": \"Comedy\"\n",
    "},\n",
    "{\n",
    "\"name\": \"What is the name\",\n",
    "\"imdb\": 9.2,\n",
    "\"category\": \"Suspense\"\n",
    "},\n",
    "{\n",
    "\"name\": \"Detective\",\n",
    "\"imdb\": 7.0,\n",
    "\"category\": \"Suspense\"\n",
    "},\n",
    "{\n",
    "\"name\": \"Exam\",\n",
    "\"imdb\": 4.2,\n",
    "\"category\": \"Thriller\"\n",
    "},\n",
    "{\n",
    "\"name\": \"We Two\",\n",
    "\"imdb\": 7.2,\n",
    "\"category\": \"Romance\"\n",
    "}\n",
    "]\n",
    "def Category(movies,CategoryName):\n",
    "    for i in movies:\n",
    "        if i[\"category\"]==CategoryName:\n",
    "            print(i[\"name\"])\n",
    "\n",
    "Category(movies,\"Thriller\")\n"
   ]
  },
  {
   "cell_type": "code",
   "execution_count": 19,
   "metadata": {},
   "outputs": [
    {
     "name": "stdout",
     "output_type": "stream",
     "text": [
      "6.486666666666667\n"
     ]
    }
   ],
   "source": [
    "#4\n",
    "# Dictionary of movies\n",
    "\n",
    "movies = [\n",
    "{\n",
    "\"name\": \"Usual Suspects\", \n",
    "\"imdb\": 7.0,\n",
    "\"category\": \"Thriller\"\n",
    "},\n",
    "{\n",
    "\"name\": \"Hitman\",\n",
    "\"imdb\": 6.3,\n",
    "\"category\": \"Action\"\n",
    "},\n",
    "{\n",
    "\"name\": \"Dark Knight\",\n",
    "\"imdb\": 9.0,\n",
    "\"category\": \"Adventure\"\n",
    "},\n",
    "{\n",
    "\"name\": \"The Help\",\n",
    "\"imdb\": 8.0,\n",
    "\"category\": \"Drama\"\n",
    "},\n",
    "{\n",
    "\"name\": \"The Choice\",\n",
    "\"imdb\": 6.2,\n",
    "\"category\": \"Romance\"\n",
    "},\n",
    "{\n",
    "\"name\": \"Colonia\",\n",
    "\"imdb\": 7.4,\n",
    "\"category\": \"Romance\"\n",
    "},\n",
    "{\n",
    "\"name\": \"Love\",\n",
    "\"imdb\": 6.0,\n",
    "\"category\": \"Romance\"\n",
    "},\n",
    "{\n",
    "\"name\": \"Bride Wars\",\n",
    "\"imdb\": 5.4,\n",
    "\"category\": \"Romance\"\n",
    "},\n",
    "{\n",
    "\"name\": \"AlphaJet\",\n",
    "\"imdb\": 3.2,\n",
    "\"category\": \"War\"\n",
    "},\n",
    "{\n",
    "\"name\": \"Ringing Crime\",\n",
    "\"imdb\": 4.0,\n",
    "\"category\": \"Crime\"\n",
    "},\n",
    "{\n",
    "\"name\": \"Joking muck\",\n",
    "\"imdb\": 7.2,\n",
    "\"category\": \"Comedy\"\n",
    "},\n",
    "{\n",
    "\"name\": \"What is the name\",\n",
    "\"imdb\": 9.2,\n",
    "\"category\": \"Suspense\"\n",
    "},\n",
    "{\n",
    "\"name\": \"Detective\",\n",
    "\"imdb\": 7.0,\n",
    "\"category\": \"Suspense\"\n",
    "},\n",
    "{\n",
    "\"name\": \"Exam\",\n",
    "\"imdb\": 4.2,\n",
    "\"category\": \"Thriller\"\n",
    "},\n",
    "{\n",
    "\"name\": \"We Two\",\n",
    "\"imdb\": 7.2,\n",
    "\"category\": \"Romance\"\n",
    "}\n",
    "]\n",
    "def average_imdb(movies):\n",
    "    count=0\n",
    "    average=0\n",
    "    for i in movies:\n",
    "        average+=i['imdb']\n",
    "        count+=1\n",
    "    return average/count\n",
    "\n",
    "print(average_imdb(movies))\n"
   ]
  },
  {
   "cell_type": "code",
   "execution_count": 23,
   "metadata": {},
   "outputs": [
    {
     "name": "stdout",
     "output_type": "stream",
     "text": [
      "8.1\n"
     ]
    }
   ],
   "source": [
    "#5\n",
    "# Dictionary of movies\n",
    "\n",
    "movies = [\n",
    "{\n",
    "\"name\": \"Usual Suspects\", \n",
    "\"imdb\": 7.0,\n",
    "\"category\": \"Thriller\"\n",
    "},\n",
    "{\n",
    "\"name\": \"Hitman\",\n",
    "\"imdb\": 6.3,\n",
    "\"category\": \"Action\"\n",
    "},\n",
    "{\n",
    "\"name\": \"Dark Knight\",\n",
    "\"imdb\": 9.0,\n",
    "\"category\": \"Adventure\"\n",
    "},\n",
    "{\n",
    "\"name\": \"The Help\",\n",
    "\"imdb\": 8.0,\n",
    "\"category\": \"Drama\"\n",
    "},\n",
    "{\n",
    "\"name\": \"The Choice\",\n",
    "\"imdb\": 6.2,\n",
    "\"category\": \"Romance\"\n",
    "},\n",
    "{\n",
    "\"name\": \"Colonia\",\n",
    "\"imdb\": 7.4,\n",
    "\"category\": \"Romance\"\n",
    "},\n",
    "{\n",
    "\"name\": \"Love\",\n",
    "\"imdb\": 6.0,\n",
    "\"category\": \"Romance\"\n",
    "},\n",
    "{\n",
    "\"name\": \"Bride Wars\",\n",
    "\"imdb\": 5.4,\n",
    "\"category\": \"Romance\"\n",
    "},\n",
    "{\n",
    "\"name\": \"AlphaJet\",\n",
    "\"imdb\": 3.2,\n",
    "\"category\": \"War\"\n",
    "},\n",
    "{\n",
    "\"name\": \"Ringing Crime\",\n",
    "\"imdb\": 4.0,\n",
    "\"category\": \"Crime\"\n",
    "},\n",
    "{\n",
    "\"name\": \"Joking muck\",\n",
    "\"imdb\": 7.2,\n",
    "\"category\": \"Comedy\"\n",
    "},\n",
    "{\n",
    "\"name\": \"What is the name\",\n",
    "\"imdb\": 9.2,\n",
    "\"category\": \"Suspense\"\n",
    "},\n",
    "{\n",
    "\"name\": \"Detective\",\n",
    "\"imdb\": 7.0,\n",
    "\"category\": \"Suspense\"\n",
    "},\n",
    "{\n",
    "\"name\": \"Exam\",\n",
    "\"imdb\": 4.2,\n",
    "\"category\": \"Thriller\"\n",
    "},\n",
    "{\n",
    "\"name\": \"We Two\",\n",
    "\"imdb\": 7.2,\n",
    "\"category\": \"Romance\"\n",
    "}\n",
    "]\n",
    "def average_imdb_by_category(movies,Category):\n",
    "    count=0\n",
    "    average=0\n",
    "    for i in movies:\n",
    "        if i[\"category\"]==Category:\n",
    "            average+=i['imdb']\n",
    "            count+=1\n",
    "    return average/count\n",
    "\n",
    "print(average_imdb_by_category(movies,\"Suspense\"))\n"
   ]
  },
  {
   "cell_type": "markdown",
   "metadata": {},
   "source": [
    "Classes"
   ]
  },
  {
   "cell_type": "code",
   "execution_count": 43,
   "metadata": {},
   "outputs": [
    {
     "name": "stdout",
     "output_type": "stream",
     "text": [
      "STATEMENT\n"
     ]
    }
   ],
   "source": [
    "#1\n",
    "class Statement:\n",
    "    def __init__(self):\n",
    "        self.statement = \"\"\n",
    "    def getString(self):\n",
    "        self.statement = \"statement\"\n",
    "    def printString(self):\n",
    "        print(self.statement.upper())\n",
    "s = Statement()\n",
    "s.getString()\n",
    "s.printString()\n"
   ]
  },
  {
   "cell_type": "code",
   "execution_count": 48,
   "metadata": {},
   "outputs": [
    {
     "name": "stdout",
     "output_type": "stream",
     "text": [
      "The area is equal to 0\n",
      "The area is equal to 16\n"
     ]
    }
   ],
   "source": [
    "#2\n",
    "class Shape:\n",
    "    def __init__(self):\n",
    "        pass\n",
    "    def area(self):\n",
    "        print(\"The area is equal to 0\")\n",
    "class Square(Shape):\n",
    "    def __init__(self,length):\n",
    "        self.length=length\n",
    "    def area(self):\n",
    "        print(f\"The area is equal to {self.length**2}\")\n",
    "shape = Shape()\n",
    "shape.area()\n",
    "square = Square(4)\n",
    "square.area()\n"
   ]
  },
  {
   "cell_type": "code",
   "execution_count": 50,
   "metadata": {},
   "outputs": [
    {
     "name": "stdout",
     "output_type": "stream",
     "text": [
      "The area is equal to 12\n"
     ]
    }
   ],
   "source": [
    "#3\n",
    "class Shape:\n",
    "    def __init__(self):\n",
    "        pass\n",
    "    def area(self):\n",
    "        print(\"The area is equal to 0\")\n",
    "class Rectangle(Shape):\n",
    "    def __init__(self,length,width):\n",
    "        self.length=length\n",
    "        self.width=width\n",
    "    def area(self):\n",
    "        print(f\"The area is equal to {self.length * self.width}\")\n",
    "rectangle=Rectangle(3,4)\n",
    "rectangle.area()\n",
    "\n"
   ]
  },
  {
   "cell_type": "code",
   "execution_count": 54,
   "metadata": {},
   "outputs": [
    {
     "name": "stdout",
     "output_type": "stream",
     "text": [
      "4 7\n",
      "6 10\n",
      "Distance between the points: 6.4031242374328485\n"
     ]
    }
   ],
   "source": [
    "#4\n",
    "import math\n",
    "x=5\n",
    "y=12\n",
    "class Point:\n",
    "    def __init__(self,x,y):\n",
    "        self.x = x\n",
    "        self.y = y\n",
    "    def show(self):\n",
    "        print(self.x,self.y)\n",
    "    def move(self,m,n):\n",
    "        self.x +=m\n",
    "        self.y +=n\n",
    "    def dist(self,point2):\n",
    "        distance = math.sqrt((self.x-point2.x)**2+(self.y-point2.y)**2)\n",
    "        return distance\n",
    "s = Point(4,7)\n",
    "m = Point(2,5)\n",
    "s.show()\n",
    "s.move(2,3)\n",
    "s.show()\n",
    "distance = s.dist(m)\n",
    "print(f\"Distance between the points: {distance}\")\n"
   ]
  },
  {
   "cell_type": "code",
   "execution_count": 56,
   "metadata": {},
   "outputs": [
    {
     "name": "stdout",
     "output_type": "stream",
     "text": [
      "Inkar, your new balance after deposit is: 2200\n",
      "Inkar, your new balance after withdrawal is: 1900\n",
      "Inkar, your new balance after deposit is: 2100\n",
      "Inkar, your new balance after withdrawal is: 600\n",
      "Final balance for Inkar: 600\n"
     ]
    }
   ],
   "source": [
    "#5\n",
    "class Account:\n",
    "    def __init__(self, owner, balance):\n",
    "        self.owner = owner\n",
    "        self.balance = balance\n",
    "\n",
    "    def deposit(self, money):\n",
    "        self.balance += money\n",
    "\n",
    "    def withdraw(self, money):\n",
    "        if self.balance >= money:\n",
    "            self.balance -= money\n",
    "\n",
    "\n",
    "owner = \"Inkar\"\n",
    "balance = 1700\n",
    "account1 = Account(owner, balance)\n",
    "\n",
    "actions = [\n",
    "    ('deposit', 500),\n",
    "    ('withdraw', 300),\n",
    "    ('deposit', 200),\n",
    "    ('withdraw', 1500),\n",
    "]\n",
    "\n",
    "for action, amount in actions:\n",
    "    if action == 'deposit':\n",
    "        account1.deposit(amount)\n",
    "        print(f\"{account1.owner}, your new balance after deposit is: {account1.balance}\")\n",
    "    elif action == 'withdraw':\n",
    "        account1.withdraw(amount)\n",
    "        print(f\"{account1.owner}, your new balance after withdrawal is: {account1.balance}\")\n",
    "\n",
    "print(f\"Final balance for {account1.owner}: {account1.balance}\")\n"
   ]
  },
  {
   "cell_type": "code",
   "execution_count": 4,
   "metadata": {},
   "outputs": [
    {
     "name": "stdout",
     "output_type": "stream",
     "text": [
      "Original list: [1, 3, 4, 6, 7, 5, 9, 17, 23]\n",
      "Prime numbers: [3, 7, 5, 17, 23]\n"
     ]
    }
   ],
   "source": [
    "#6\n",
    "def is_prime(n):\n",
    "    if n<2:\n",
    "        return False\n",
    "    for i in range(2,int(n**0.5)+1):\n",
    "        if n%i==0:\n",
    "            return False\n",
    "    return True\n",
    "x = [1,3,4,6,7,5,9,17,23]\n",
    "prime_numbers = list(filter(lambda n:is_prime(n),x))\n",
    "print(\"Original list:\",x)\n",
    "print(\"Prime numbers:\",prime_numbers)\n"
   ]
  }
 ],
 "metadata": {
  "kernelspec": {
   "display_name": "Python 3",
   "language": "python",
   "name": "python3"
  },
  "language_info": {
   "codemirror_mode": {
    "name": "ipython",
    "version": 3
   },
   "file_extension": ".py",
   "mimetype": "text/x-python",
   "name": "python",
   "nbconvert_exporter": "python",
   "pygments_lexer": "ipython3",
   "version": "3.13.1"
  }
 },
 "nbformat": 4,
 "nbformat_minor": 2
}
